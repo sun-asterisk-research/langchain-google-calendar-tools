{
 "cells": [
  {
   "cell_type": "code",
   "execution_count": 1,
   "metadata": {},
   "outputs": [],
   "source": [
    "from dotenv import load_dotenv\n",
    "from langchain.agents import initialize_agent, AgentType\n",
    "from langchain.callbacks import wandb_tracing_enabled\n",
    "from langchain.llms import OpenAI\n",
    "\n",
    "from langchain_google_calendar_tools.utils import build_resource_service, get_oauth_credentials\n",
    "from langchain_google_calendar_tools.tools.create_new_event.tool import CreateNewEvent\n",
    "from langchain_google_calendar_tools.tools.list_events.tool import ListEvents\n",
    "from langchain_google_calendar_tools.tools.update_exist_event.tool import UpdateExistEvent\n",
    "\n",
    "from langchain_google_calendar_tools.helper_tools.get_current_datetime import GetCurrentDatetime"
   ]
  },
  {
   "cell_type": "code",
   "execution_count": 2,
   "metadata": {},
   "outputs": [
    {
     "data": {
      "text/plain": [
       "True"
      ]
     },
     "execution_count": 2,
     "metadata": {},
     "output_type": "execute_result"
    }
   ],
   "source": [
    "load_dotenv()"
   ]
  },
  {
   "cell_type": "markdown",
   "metadata": {},
   "source": [
    "# Setup API recource"
   ]
  },
  {
   "cell_type": "code",
   "execution_count": 3,
   "metadata": {},
   "outputs": [],
   "source": [
    "credentials = get_oauth_credentials(\n",
    "    client_secrets_file=\"credentials.json\",\n",
    ")\n",
    "\n",
    "api_resource = build_resource_service(credentials=credentials)"
   ]
  },
  {
   "cell_type": "code",
   "execution_count": 4,
   "metadata": {},
   "outputs": [],
   "source": [
    "agent = initialize_agent(\n",
    "    tools=[\n",
    "        ListEvents(api_resource=api_resource),\n",
    "        CreateNewEvent(api_resource=api_resource),\n",
    "        UpdateExistEvent(api_resource=api_resource),\n",
    "        GetCurrentDatetime(),\n",
    "    ],\n",
    "    llm=OpenAI(temperature=0),\n",
    "    agent=AgentType.STRUCTURED_CHAT_ZERO_SHOT_REACT_DESCRIPTION,\n",
    "    verbose=True,\n",
    ")\n",
    "\n",
    "# If you want to use Azure OpenAI, you can use the following code.\n",
    "\n",
    "#  llm = AzureChatOpenAI(\n",
    "#     deployment_name=os.environ.get(\"AZURE_OPENAI_GPT_DEPLOYMENT_NAME\"),\n",
    "#     openai_api_key=os.environ.get(\"AZURE_OPENAI_KEY\"),\n",
    "#     openai_api_base=os.environ.get(\"AZURE_OPENAI_ENDPOINT\"),\n",
    "#     openai_api_version=os.environ.get(\"AZURE_OPENAI_VERSION\"),\n",
    "#     temperature=0,\n",
    "# )"
   ]
  },
  {
   "cell_type": "markdown",
   "metadata": {},
   "source": [
    "# Create new event"
   ]
  },
  {
   "cell_type": "code",
   "execution_count": 5,
   "metadata": {},
   "outputs": [],
   "source": [
    "# Use wandb_tracing_enabled() to trace the agent's output.\n",
    "\n",
    "# with wandb_tracing_enabled():\n",
    "#     output = agent.run(\"Create new event on 2023-11-14 at 10:00 with summary 'test', return html link and event summary.\")\n",
    "\n",
    "#     print(output)"
   ]
  },
  {
   "cell_type": "markdown",
   "metadata": {},
   "source": [
    "# List events"
   ]
  },
  {
   "cell_type": "code",
   "execution_count": 6,
   "metadata": {},
   "outputs": [],
   "source": [
    "# with wandb_tracing_enabled():\n",
    "#     output = agent.run(\"Find the event scheduled on 2023-11-14 at 10:00 has summary 'test', returned html link and event summary.\")\n",
    "\n",
    "#     print(output)"
   ]
  },
  {
   "cell_type": "markdown",
   "metadata": {},
   "source": [
    "# Update by event"
   ]
  },
  {
   "cell_type": "code",
   "execution_count": 7,
   "metadata": {},
   "outputs": [
    {
     "name": "stderr",
     "output_type": "stream",
     "text": [
      "Failed to detect the name of this notebook, you can set it manually with the WANDB_NOTEBOOK_NAME environment variable to enable code saving.\n",
      "\u001b[34m\u001b[1mwandb\u001b[0m: Streaming LangChain activity to W&B at https://wandb.ai/yuyuu___/unnamed-oss-1-notebooks/runs/o62wsw0y\n",
      "\u001b[34m\u001b[1mwandb\u001b[0m: `WandbTracer` is currently in beta.\n",
      "\u001b[34m\u001b[1mwandb\u001b[0m: Please report any issues to https://github.com/wandb/wandb/issues with the tag `langchain`.\n"
     ]
    },
    {
     "name": "stdout",
     "output_type": "stream",
     "text": [
      "\n",
      "\n",
      "\u001b[1m> Entering new AgentExecutor chain...\u001b[0m\n",
      "\u001b[32;1m\u001b[1;3m\n",
      "Action:\n",
      "```\n",
      "{\n",
      "  \"action\": \"update_exist_event\",\n",
      "  \"action_input\": {\n",
      "    \"event_id\": \"\",\n",
      "    \"summary\": \"test and change summary\",\n",
      "    \"start_time\": \"2023-11-14T10:00:00\",\n",
      "    \"end_time\": \"2023-11-14T10:00:00\"\n",
      "  }\n",
      "}\n",
      "```\n",
      "\n",
      "\u001b[0m\n",
      "Observation: \u001b[38;5;200m\u001b[1;3m{'error': 'event_id must not be empty. You can get it from list_events tool.'}\u001b[0m\n",
      "Thought:\u001b[32;1m\u001b[1;3m Get the event_id from list_events\n",
      "Action:\n",
      "```\n",
      "{\n",
      "  \"action\": \"list_events\",\n",
      "  \"action_input\": {\n",
      "    \"num_events\": 1,\n",
      "    \"start_date\": \"2023-11-14T10:00:00\",\n",
      "    \"end_date\": \"2023-11-14T10:00:00\",\n",
      "    \"summary\": \"test\"\n",
      "  }\n",
      "}\n",
      "```\n",
      "\n",
      "\u001b[0m\n",
      "Observation: \u001b[36;1m\u001b[1;3m[{'event_id': 'dsfu8fn47k93bvg9qf0503d2oo', 'summary': 'test', 'creator': 'trungtdxz@gmail.com', 'organizer': 'trungtdxz@gmail.com', 'htmlLink': 'https://www.google.com/calendar/event?eid=ZHNmdThmbjQ3azkzYnZnOXFmMDUwM2Qyb28gdHJ1bmd0ZHh6QG0', 'start': {'date': None, 'dateTime': '2023-11-14T10:00:00+07:00', 'timeZone': 'Asia/Ho_Chi_Minh'}, 'end': {'date': None, 'dateTime': '2023-11-14T10:00:00+07:00', 'timeZone': 'Asia/Ho_Chi_Minh'}, 'location': None, 'attendees': []}]\u001b[0m\n",
      "Thought:\u001b[32;1m\u001b[1;3m Use the event_id to update the event\n",
      "Action:\n",
      "```\n",
      "{\n",
      "  \"action\": \"update_exist_event\",\n",
      "  \"action_input\": {\n",
      "    \"event_id\": \"dsfu8fn47k93bvg9qf0503d2oo\",\n",
      "    \"summary\": \"test and change summary\",\n",
      "    \"start_time\": \"2023-11-14T10:00:00\",\n",
      "    \"end_time\": \"2023-11-14T10:00:00\"\n",
      "  }\n",
      "}\n",
      "```\n",
      "\n",
      "\u001b[0m\n",
      "Observation: \u001b[38;5;200m\u001b[1;3m{'kind': 'calendar#event', 'etag': '\"3399770603484000\"', 'id': 'dsfu8fn47k93bvg9qf0503d2oo', 'status': 'confirmed', 'htmlLink': 'https://www.google.com/calendar/event?eid=ZHNmdThmbjQ3azkzYnZnOXFmMDUwM2Qyb28gdHJ1bmd0ZHh6QG0', 'created': '2023-11-13T12:57:22.000Z', 'updated': '2023-11-13T14:21:41.742Z', 'summary': 'test and change summary', 'creator': {'email': 'trungtdxz@gmail.com', 'self': True}, 'organizer': {'email': 'trungtdxz@gmail.com', 'self': True}, 'start': {'dateTime': '2023-11-14T10:00:00+07:00', 'timeZone': 'Asia/Ho_Chi_Minh'}, 'end': {'dateTime': '2023-11-14T10:00:00+07:00', 'timeZone': 'Asia/Ho_Chi_Minh'}, 'iCalUID': 'dsfu8fn47k93bvg9qf0503d2oo@google.com', 'sequence': 0, 'reminders': {'useDefault': True}, 'eventType': 'default'}\u001b[0m\n",
      "Thought:"
     ]
    },
    {
     "name": "stderr",
     "output_type": "stream",
     "text": [
      "Retrying langchain.llms.openai.completion_with_retry.<locals>._completion_with_retry in 4.0 seconds as it raised RateLimitError: Rate limit reached for text-davinci-003 in organization org-ErmE2LagFoDNY5yENGHwj285 on requests per min (RPM): Limit 3, Used 3, Requested 1. Please try again in 20s. Visit https://platform.openai.com/account/rate-limits to learn more. You can increase your rate limit by adding a payment method to your account at https://platform.openai.com/account/billing..\n",
      "Retrying langchain.llms.openai.completion_with_retry.<locals>._completion_with_retry in 4.0 seconds as it raised RateLimitError: Rate limit reached for text-davinci-003 in organization org-ErmE2LagFoDNY5yENGHwj285 on requests per min (RPM): Limit 3, Used 3, Requested 1. Please try again in 20s. Visit https://platform.openai.com/account/rate-limits to learn more. You can increase your rate limit by adding a payment method to your account at https://platform.openai.com/account/billing..\n"
     ]
    },
    {
     "name": "stdout",
     "output_type": "stream",
     "text": [
      "\u001b[32;1m\u001b[1;3m I know what to respond\n",
      "Action:\n",
      "```\n",
      "{\n",
      "  \"action\": \"Final Answer\",\n",
      "  \"action_input\": \"The event has been updated successfully.\"\n",
      "}\n",
      "```\u001b[0m\n",
      "\n",
      "\u001b[1m> Finished chain.\u001b[0m\n",
      "The event has been updated successfully.\n"
     ]
    }
   ],
   "source": [
    "with wandb_tracing_enabled():\n",
    "    output = agent.run(\n",
    "        \"Find the event scheduled on 2023-11-14 at 10:00 has summary 'test' and update its summary to 'test and change summary'\"\n",
    "    )\n",
    "\n",
    "    print(output)"
   ]
  }
 ],
 "metadata": {
  "kernelspec": {
   "display_name": "base",
   "language": "python",
   "name": "python3"
  },
  "language_info": {
   "codemirror_mode": {
    "name": "ipython",
    "version": 3
   },
   "file_extension": ".py",
   "mimetype": "text/x-python",
   "name": "python",
   "nbconvert_exporter": "python",
   "pygments_lexer": "ipython3",
   "version": "3.11.5"
  }
 },
 "nbformat": 4,
 "nbformat_minor": 2
}
